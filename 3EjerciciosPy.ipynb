{
  "nbformat": 4,
  "nbformat_minor": 0,
  "metadata": {
    "colab": {
      "provenance": [],
      "authorship_tag": "ABX9TyNT1Cg3ZmtMI0T7OUEfd494",
      "include_colab_link": true
    },
    "kernelspec": {
      "name": "python3",
      "display_name": "Python 3"
    },
    "language_info": {
      "name": "python"
    }
  },
  "cells": [
    {
      "cell_type": "markdown",
      "metadata": {
        "id": "view-in-github",
        "colab_type": "text"
      },
      "source": [
        "<a href=\"https://colab.research.google.com/github/alu230833-sq/Repaso-python/blob/main/3EjerciciosPy.ipynb\" target=\"_parent\"><img src=\"https://colab.research.google.com/assets/colab-badge.svg\" alt=\"Open In Colab\"/></a>"
      ]
    },
    {
      "cell_type": "code",
      "execution_count": 14,
      "metadata": {
        "id": "uRcZHOJ95NfC"
      },
      "outputs": [],
      "source": []
    },
    {
      "cell_type": "markdown",
      "source": [
        "Ejercicios a desarrollar en colab con github\n",
        "1. realizar un programa en python que te permita capturar 2 numeros enteros e imprima la suma, la resta, la multiplicacion y la division de ambos.\n",
        "\n",
        "2. realizar un programa en python mediante el cual calcules el total de caracteres que tiene un nombre capturado desde el teclado.\n",
        "\n",
        "3.Realizar un programa en python que permita imprimir los 7 dias de la semana"
      ],
      "metadata": {
        "id": "7ZO_WzdJ5P-T"
      }
    },
    {
      "cell_type": "code",
      "source": [
        "n1 = int(input(\"ingresa el primer numero: \"))\n",
        "n2 = int(input(\"ingresa el segundo numero: \"))\n",
        "suma = n1 + n2\n",
        "resta = n1 - n2\n",
        "mult = n1 * n2\n",
        "divi = n1 / n2\n",
        "print(\"Suma: \",suma)\n",
        "print(\"Resta: \",resta)\n",
        "print(\"Multiplicacion: \",mult)\n",
        "print(\"Division: \",divi)"
      ],
      "metadata": {
        "colab": {
          "base_uri": "https://localhost:8080/"
        },
        "id": "olM2XZJd7TB5",
        "outputId": "919c8b6f-5419-416b-fed5-b6cf4111450f"
      },
      "execution_count": 15,
      "outputs": [
        {
          "output_type": "stream",
          "name": "stdout",
          "text": [
            "ingresa el primer numero: 2\n",
            "ingresa el segundo numero: 7\n",
            "Suma:  9\n",
            "Resta:  -5\n",
            "Multiplicacion:  14\n",
            "Division:  0.2857142857142857\n"
          ]
        }
      ]
    },
    {
      "cell_type": "code",
      "source": [
        "nombre = input(\"Ingresa un nombre: \")\n",
        "car = len(nombre)\n",
        "print(\" El nombre tiene \",car,\" caracteres.\")"
      ],
      "metadata": {
        "colab": {
          "base_uri": "https://localhost:8080/"
        },
        "id": "ptKSwzKo_CRH",
        "outputId": "0ff380e2-22b6-4da5-a7bf-aa3919516a20"
      },
      "execution_count": 16,
      "outputs": [
        {
          "output_type": "stream",
          "name": "stdout",
          "text": [
            "Ingresa un nombre: Adry\n",
            " El nombre tiene  4  caracteres.\n"
          ]
        }
      ]
    },
    {
      "cell_type": "code",
      "source": [
        "semana=[\"Lunes\",\"martes\",\"Miercoles\",\"Jueves\",\"Viernes\"]\n",
        "for dia in semana:\n",
        "  print(dia)"
      ],
      "metadata": {
        "colab": {
          "base_uri": "https://localhost:8080/"
        },
        "id": "GR67GRFhA14r",
        "outputId": "c3d6482e-b7e0-4cc9-80eb-78d33e011449"
      },
      "execution_count": 17,
      "outputs": [
        {
          "output_type": "stream",
          "name": "stdout",
          "text": [
            "Lunes\n",
            "martes\n",
            "Miercoles\n",
            "Jueves\n",
            "Viernes\n"
          ]
        }
      ]
    }
  ]
}