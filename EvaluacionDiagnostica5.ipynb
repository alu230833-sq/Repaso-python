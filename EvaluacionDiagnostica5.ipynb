{
  "nbformat": 4,
  "nbformat_minor": 0,
  "metadata": {
    "colab": {
      "provenance": [],
      "authorship_tag": "ABX9TyPVScor8/x0IKel14QqclDH",
      "include_colab_link": true
    },
    "kernelspec": {
      "name": "python3",
      "display_name": "Python 3"
    },
    "language_info": {
      "name": "python"
    }
  },
  "cells": [
    {
      "cell_type": "markdown",
      "metadata": {
        "id": "view-in-github",
        "colab_type": "text"
      },
      "source": [
        "<a href=\"https://colab.research.google.com/github/alu230833-sq/Repaso-python/blob/main/EvaluacionDiagnostica5.ipynb\" target=\"_parent\"><img src=\"https://colab.research.google.com/assets/colab-badge.svg\" alt=\"Open In Colab\"/></a>"
      ]
    },
    {
      "cell_type": "markdown",
      "source": [
        "Páginacodigo1.- Imprimir nombre, paterno y materno de Alumno"
      ],
      "metadata": {
        "id": "6Mmbmmb72J2a"
      }
    },
    {
      "cell_type": "code",
      "source": [
        "print(\"Gael Ivan Maldonado Renteria\")"
      ],
      "metadata": {
        "colab": {
          "base_uri": "https://localhost:8080/"
        },
        "id": "SwwDx2A02Wzw",
        "outputId": "e58c25d5-7aa3-41a5-a1a9-c44499cb1ad8"
      },
      "execution_count": 3,
      "outputs": [
        {
          "output_type": "stream",
          "name": "stdout",
          "text": [
            "Gael Ivan Maldonado Renteria\n"
          ]
        }
      ]
    },
    {
      "cell_type": "markdown",
      "source": [
        "codigo2.- Capturar 2 números decimales e imprimir Suma"
      ],
      "metadata": {
        "id": "ZaU6vcHM2Z_V"
      }
    },
    {
      "cell_type": "code",
      "source": [
        "num1=float(input(\"Ingresa el primer numero: \"))\n",
        "num2=float(input(\"Ingresa el segundo numero: \"))\n",
        "resu=num1+num2\n",
        "print(\"La suma es: \",resu)"
      ],
      "metadata": {
        "colab": {
          "base_uri": "https://localhost:8080/"
        },
        "id": "OAAwQ-uU2asV",
        "outputId": "87938179-baa5-4bdb-aab2-28d4f22357fa"
      },
      "execution_count": 4,
      "outputs": [
        {
          "output_type": "stream",
          "name": "stdout",
          "text": [
            "Ingresa el primer numero: 4.3\n",
            "Ingresa el segundo numero: 24.432\n",
            "La suma es:  28.732\n"
          ]
        }
      ]
    },
    {
      "cell_type": "markdown",
      "source": [
        "codigo 3. Calcular el área de un círculo"
      ],
      "metadata": {
        "id": "Xgx1mcgY2bJl"
      }
    },
    {
      "cell_type": "code",
      "source": [
        "pi=3.1416\n",
        "radio=float(input(\"ingresa el radio del circulo: \"))\n",
        "area=pi*radio**2\n",
        "print(\"el area del circulo es: \",area)\n"
      ],
      "metadata": {
        "colab": {
          "base_uri": "https://localhost:8080/"
        },
        "id": "-rh-7k8B2b2l",
        "outputId": "023a9ecd-ef5e-413a-daf1-5b5183102648"
      },
      "execution_count": 5,
      "outputs": [
        {
          "output_type": "stream",
          "name": "stdout",
          "text": [
            "ingresa el radio del circulo: 5\n",
            "el area del circulo es:  78.53999999999999\n"
          ]
        }
      ]
    },
    {
      "cell_type": "markdown",
      "source": [
        "codigo 4. Ejemplo de código y ventana resultante de semestre pasado"
      ],
      "metadata": {
        "id": "DO6hkmn62c0d"
      }
    },
    {
      "cell_type": "code",
      "source": [],
      "metadata": {
        "id": "7Vjuz_O32dNv"
      },
      "execution_count": 4,
      "outputs": []
    }
  ]
}