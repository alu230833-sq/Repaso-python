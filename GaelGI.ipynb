{
  "nbformat": 4,
  "nbformat_minor": 0,
  "metadata": {
    "colab": {
      "provenance": [],
      "authorship_tag": "ABX9TyN6GiwNhrKAElwwI47/Bidf",
      "include_colab_link": true
    },
    "kernelspec": {
      "name": "python3",
      "display_name": "Python 3"
    },
    "language_info": {
      "name": "python"
    }
  },
  "cells": [
    {
      "cell_type": "markdown",
      "metadata": {
        "id": "view-in-github",
        "colab_type": "text"
      },
      "source": [
        "<a href=\"https://colab.research.google.com/github/alu230833-sq/Repaso-python/blob/main/GaelGI.ipynb\" target=\"_parent\"><img src=\"https://colab.research.google.com/assets/colab-badge.svg\" alt=\"Open In Colab\"/></a>"
      ]
    },
    {
      "cell_type": "code",
      "execution_count": null,
      "metadata": {
        "id": "x3QljQoiz7a6"
      },
      "outputs": [],
      "source": []
    },
    {
      "cell_type": "markdown",
      "source": [
        "Programa 1 en Python para imprimir mi nombre con hola mundo"
      ],
      "metadata": {
        "id": "fLiQQu3s0WA9"
      }
    },
    {
      "cell_type": "code",
      "source": [
        "print (\"Hola Mundo\")\n",
        "nombre=(input(\"captura tu nombre: \"))\n",
        "print (nombre)"
      ],
      "metadata": {
        "colab": {
          "base_uri": "https://localhost:8080/"
        },
        "id": "Okro5wYs0kb1",
        "outputId": "e5fd494e-d470-4d6a-ae49-26b0b3d12f18"
      },
      "execution_count": null,
      "outputs": [
        {
          "output_type": "stream",
          "name": "stdout",
          "text": [
            "Hola Mundo\n",
            "captura tu nombre: Adry\n",
            "Adry\n"
          ]
        }
      ]
    },
    {
      "cell_type": "markdown",
      "source": [
        "Programa 2 capturar tu nombre paterno y materno e imprimirlo en una pantalla"
      ],
      "metadata": {
        "id": "9UFhYKdL1eJE"
      }
    },
    {
      "cell_type": "code",
      "source": [
        "apellidop=(input(\"Ingresa el nombre paterno: \"))\n",
        "print(apellidop)\n",
        "apellidom=(input(\"Ingresa el nombre materno: \"))\n",
        "print(apellidom)"
      ],
      "metadata": {
        "colab": {
          "base_uri": "https://localhost:8080/"
        },
        "id": "IsQpj9Vm1qf6",
        "outputId": "08fe997a-9b58-46cf-b11e-cd88302ffc5d"
      },
      "execution_count": null,
      "outputs": [
        {
          "output_type": "stream",
          "name": "stdout",
          "text": [
            "Ingresa el nombre paterno: Maldonado\n",
            "Maldonado\n",
            "Ingresa el nombre materno: Renteria\n",
            "Renteria\n"
          ]
        }
      ]
    }
  ]
}